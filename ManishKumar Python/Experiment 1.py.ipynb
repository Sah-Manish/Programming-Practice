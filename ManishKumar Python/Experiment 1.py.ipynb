{
 "cells": [
  {
   "cell_type": "markdown",
   "id": "d7dff578",
   "metadata": {},
   "source": [
    "# Manish Kumar (20SCSE1010830)"
   ]
  },
  {
   "cell_type": "markdown",
   "id": "f9dc5684",
   "metadata": {},
   "source": [
    "## Section 10 Group P1"
   ]
  },
  {
   "cell_type": "code",
   "execution_count": 1,
   "id": "cd43d343",
   "metadata": {},
   "outputs": [],
   "source": [
    "# Experiment 1 \n",
    "# Use of Comments and Print command in Python"
   ]
  },
  {
   "cell_type": "code",
   "execution_count": 3,
   "id": "761ccae1",
   "metadata": {},
   "outputs": [
    {
     "name": "stdout",
     "output_type": "stream",
     "text": [
      "Manish Kumar\n",
      "20SCSE1010830\n",
      "Section 10 Group P1\n",
      "Courses:\n",
      "1. Operating System\n",
      "2. Analysis and Design of Algorithm\n",
      "3. Computer Graphics\n",
      "4. Python Programming\n",
      "5. Probability and Statistics\n",
      "6. Technical Training II\n",
      "\n",
      "Galgotias University, Gautam Buddh Nagar\n"
     ]
    }
   ],
   "source": [
    "print(\"Manish Kumar\") # Name\n",
    "print(\"20SCSE1010830\") # Admission Number\n",
    "print(\"Section 10 Group P1\") # Section and Group\n",
    "print(\"Courses:\") # Courses\n",
    "print(\"1. Operating System\")\n",
    "print(\"2. Analysis and Design of Algorithm\")\n",
    "print(\"3. Computer Graphics\")\n",
    "print(\"4. Python Programming\")\n",
    "print(\"5. Probability and Statistics\")\n",
    "print(\"6. Technical Training II\")\n",
    "print(\"\") # To put an empty line\n",
    "print(\"Galgotias University, Gautam Buddh Nagar\") # University Name"
   ]
  },
  {
   "cell_type": "code",
   "execution_count": null,
   "id": "1ed74ba1",
   "metadata": {},
   "outputs": [],
   "source": []
  }
 ],
 "metadata": {
  "kernelspec": {
   "display_name": "Python 3 (ipykernel)",
   "language": "python",
   "name": "python3"
  },
  "language_info": {
   "codemirror_mode": {
    "name": "ipython",
    "version": 3
   },
   "file_extension": ".py",
   "mimetype": "text/x-python",
   "name": "python",
   "nbconvert_exporter": "python",
   "pygments_lexer": "ipython3",
   "version": "3.9.9"
  }
 },
 "nbformat": 4,
 "nbformat_minor": 5
}
