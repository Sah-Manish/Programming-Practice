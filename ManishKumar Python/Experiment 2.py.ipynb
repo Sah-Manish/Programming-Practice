{
 "cells": [
  {
   "cell_type": "markdown",
   "id": "e255c81f",
   "metadata": {},
   "source": [
    "# Manish Kumar(20SCSE1010830)"
   ]
  },
  {
   "cell_type": "markdown",
   "id": "7cbbb07b",
   "metadata": {},
   "source": [
    "## Section 10 Group P1"
   ]
  },
  {
   "cell_type": "code",
   "execution_count": 1,
   "id": "85d577cc",
   "metadata": {},
   "outputs": [],
   "source": [
    "# Experiment 2\n",
    "# Arithmetic operations\n",
    "# Variables\n",
    "# Data Types in python"
   ]
  },
  {
   "cell_type": "code",
   "execution_count": 7,
   "id": "1c7ad5cb",
   "metadata": {},
   "outputs": [
    {
     "name": "stdout",
     "output_type": "stream",
     "text": [
      "Sum is 17\n",
      "Difference is  3\n",
      "Product is  70\n",
      "Division is  1.4285714285714286\n",
      "Modulus is  3\n",
      "Power using ** is  10000000\n",
      "Power using pow function is  10000000\n"
     ]
    }
   ],
   "source": [
    "# Variable Declaration and Arithmetic Operations\n",
    "num_1 = 10\n",
    "num_2 = 7\n",
    "sum=num_1 + num_2\n",
    "difference=num_1 - num_2\n",
    "product=num_1 * num_2\n",
    "division=num_1 / num_2\n",
    "modulus=num_1 % num_2\n",
    "power_1=num_1**num_2\n",
    "power_2=pow(num_1, num_2)\n",
    "print(\"Sum is\",sum)\n",
    "print(\"Difference is \",difference)\n",
    "print(\"Product is \",product)\n",
    "print(\"Division is \",division)\n",
    "print(\"Modulus is \",modulus)\n",
    "print(\"Power using ** is \",power_1)\n",
    "print(\"Power using pow function is \",power_2)"
   ]
  },
  {
   "cell_type": "code",
   "execution_count": 12,
   "id": "71b2c37b",
   "metadata": {},
   "outputs": [
    {
     "name": "stdout",
     "output_type": "stream",
     "text": [
      "Manish Kumar   <class 'str'>\n",
      "201010869   <class 'int'>\n",
      "1.7   <class 'float'>\n",
      "True   <class 'bool'>\n",
      "['Manish Kumar', 201010869, 1.7, True]   <class 'list'>\n",
      "('Manish Kumar', 201010869, 1.7, True)   <class 'tuple'>\n",
      "{'Manish Kumar', 201010869, 1.7, True}   <class 'set'>\n",
      "{1: 'Manish Kumar', 2: 201010869, 3: 1.7, 4: True}   <class 'dict'>\n"
     ]
    }
   ],
   "source": [
    "# Data Types\n",
    "a=\"Manish Kumar\"\n",
    "b=201010869\n",
    "c=1.7\n",
    "d=True\n",
    "List_Details=[a,b,c,d]\n",
    "Tuple_Details=(a,b,c,d)\n",
    "Set_Details={a,b,c,d}\n",
    "Dictionary_Details={1:a, 2:b, 3:c, 4:d}\n",
    "print(a,\" \",type(a))\n",
    "print(b,\" \",type(b))\n",
    "print(c,\" \",type(c))\n",
    "print(d,\" \",type(d))\n",
    "print(List_Details,\" \",type(List_Details))\n",
    "print(Tuple_Details,\" \",type(Tuple_Details))\n",
    "print(Set_Details,\" \",type(Set_Details))\n",
    "print(Dictionary_Details,\" \",type(Dictionary_Details))"
   ]
  },
  {
   "cell_type": "code",
   "execution_count": 19,
   "id": "f9cbc3a0",
   "metadata": {},
   "outputs": [
    {
     "name": "stdout",
     "output_type": "stream",
     "text": [
      "13.1010101010   <class 'str'>\n",
      "13.101010101   <class 'float'>\n",
      "13   <class 'int'>\n",
      "(13+0j)   <class 'complex'>\n",
      "['M', 'a', 'n', 'i', 's', 'h', ' ', 'K', 'u', 'm', 'a', 'r']   <class 'list'>\n",
      "('M', 'a', 'n', 'i', 's', 'h', ' ', 'K', 'u', 'm', 'a', 'r')   <class 'tuple'>\n",
      "{'r', 'K', 's', 'i', 'm', 'a', 'u', 'h', 'n', ' ', 'M'}   <class 'set'>\n"
     ]
    }
   ],
   "source": [
    "# Type Casting\n",
    "x=\"13.1010101010\"\n",
    "name=\"Manish Kumar\"\n",
    "print(x,\" \",type(x))\n",
    "x=float(x)\n",
    "print(x,\" \",type(x))\n",
    "x=int(x)\n",
    "print(x,\" \",type(x))\n",
    "x=complex(x)\n",
    "print(x,\" \",type(x))\n",
    "name=list(name)\n",
    "print(name,\" \",type(name))\n",
    "name=tuple(name)\n",
    "print(name,\" \",type(name))\n",
    "name=set(name)\n",
    "print(name,\" \",type(name))"
   ]
  },
  {
   "cell_type": "code",
   "execution_count": null,
   "id": "37ab9fb0",
   "metadata": {},
   "outputs": [],
   "source": []
  }
 ],
 "metadata": {
  "kernelspec": {
   "display_name": "Python 3 (ipykernel)",
   "language": "python",
   "name": "python3"
  },
  "language_info": {
   "codemirror_mode": {
    "name": "ipython",
    "version": 3
   },
   "file_extension": ".py",
   "mimetype": "text/x-python",
   "name": "python",
   "nbconvert_exporter": "python",
   "pygments_lexer": "ipython3",
   "version": "3.9.10"
  }
 },
 "nbformat": 4,
 "nbformat_minor": 5
}
