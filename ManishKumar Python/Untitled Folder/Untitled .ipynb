{
 "cells": [
  {
   "cell_type": "code",
   "execution_count": 12,
   "id": "3381e09a",
   "metadata": {},
   "outputs": [
    {
     "name": "stdout",
     "output_type": "stream",
     "text": [
      "Enter your name :Manish Kumar\n",
      "Enter enrollment number201010869\n",
      "Your name is Manish Kumar . And your enrollment number is 201010869\n",
      "Your name is Manish Kumar. And your enrollment number is 201010869.\n",
      "Your name is Manish Kumar. And your enrollment number is 201010869.\n",
      "Your name is Manish Kumar. And your enrollment number is 201010869.\n"
     ]
    }
   ],
   "source": [
    "# Input, print and assignment statement\n",
    "name=input(\"Enter your name :\")\n",
    "enro=int(input(\"Enter enrollment number\"))\n",
    "print(\"Your name is\", name, \". And your enrollment number is\",enro)\n",
    "print(\"Your name is {a}. And your enrollment number is {b}.\".format(a=name, b=enro))\n",
    "print(\"Your name is {0}. And your enrollment number is {1}.\".format(name, enro))\n",
    "print(\"Your name is {}. And your enrollment number is {}.\".format(name, enro))"
   ]
  },
  {
   "cell_type": "code",
   "execution_count": 13,
   "id": "555b7021",
   "metadata": {},
   "outputs": [
    {
     "name": "stdout",
     "output_type": "stream",
     "text": [
      "Enter a number :55\n",
      "Number is positive.\n"
     ]
    }
   ],
   "source": [
    "num=int(input(\"Enter a number :\"))\n",
    "if(True):\n",
    "    if(num > 0):\n",
    "        print(\"Number is positive.\")\n",
    "    elif(num < 0):\n",
    "        print(\"Number is negative.\")\n",
    "    else:\n",
    "        print(\"Number is neither positive nor negative, it is zero.\")"
   ]
  },
  {
   "cell_type": "code",
   "execution_count": 32,
   "id": "9ee85ed9",
   "metadata": {},
   "outputs": [
    {
     "name": "stdout",
     "output_type": "stream",
     "text": [
      "['Manish']\n",
      "['Manish', 'Kumar']\n",
      "['Manish', '_', 'Kumar']\n",
      "['Manish', '_', 'Kumar', 'abc']\n",
      "['Manish', '_', 'Kumar']\n",
      "['Manish', 'Kumar']\n",
      "['Manish']\n"
     ]
    }
   ],
   "source": [
    "# List\n",
    "name=[\"Manish\"]\n",
    "surname=[\"Kumar\"]\n",
    "print(name)\n",
    "name.extend(surname)\n",
    "print(name)\n",
    "name.insert(1,'_')\n",
    "print(name)\n",
    "name.append('abc')\n",
    "print(name)\n",
    "name.pop()\n",
    "print(name)\n",
    "name.remove('_')\n",
    "print(name)\n",
    "name.pop(1)\n",
    "print(name)"
   ]
  },
  {
   "cell_type": "code",
   "execution_count": 51,
   "id": "0ddc3ffe",
   "metadata": {},
   "outputs": [
    {
     "name": "stdout",
     "output_type": "stream",
     "text": [
      "Enter a string :FateAverruncus\n",
      "['F', 'a', 't', 'e', 'A', 'v', 'e', 'r', 'r', 'u', 'n', 'c', 'u', 's']\n",
      "['F', 'a', 't', 'e', 'A', 'v', 'e', 'r', 'r', 'u', 'n', 'c', 'u', 's']\n",
      "['F', 'a', 't', 'e', 'A', 'v', 'e', 'r', 'r', 'u', 'n', 'c', 'u', 's']\n",
      "['F', 't', 'A', 'e', 'r', 'n', 'u']\n",
      "['s', 'u', 'c', 'n', 'u', 'r', 'r', 'e', 'v', 'A', 'e', 't', 'a', 'F']\n"
     ]
    }
   ],
   "source": [
    "# List slicing\n",
    "# list_Name[starting index: ending index: gap in index]\n",
    "x=input(\"Enter a string :\")\n",
    "x=list(x)\n",
    "print(x)\n",
    "print(x[::])\n",
    "print(x[0:])\n",
    "print(x[0:len(x):2])\n",
    "print(x[-1:-len(x)-1:-1])"
   ]
  },
  {
   "cell_type": "code",
   "execution_count": 1,
   "id": "7f333d76",
   "metadata": {},
   "outputs": [
    {
     "data": {
      "text/plain": [
       "'mansih'"
      ]
     },
     "execution_count": 1,
     "metadata": {},
     "output_type": "execute_result"
    }
   ],
   "source": [
    "# Dictionary\n",
    "a={1:\"mansih\", 2:\"kumar\"}\n",
    "a[1]"
   ]
  },
  {
   "cell_type": "code",
   "execution_count": 2,
   "id": "6ac43160",
   "metadata": {},
   "outputs": [
    {
     "name": "stdout",
     "output_type": "stream",
     "text": [
      "32\n"
     ]
    }
   ],
   "source": [
    "x= lambda f:2**f\n",
    "print(x(5))"
   ]
  },
  {
   "cell_type": "code",
   "execution_count": null,
   "id": "7de5c2b3",
   "metadata": {},
   "outputs": [],
   "source": []
  }
 ],
 "metadata": {
  "kernelspec": {
   "display_name": "Python 3 (ipykernel)",
   "language": "python",
   "name": "python3"
  },
  "language_info": {
   "codemirror_mode": {
    "name": "ipython",
    "version": 3
   },
   "file_extension": ".py",
   "mimetype": "text/x-python",
   "name": "python",
   "nbconvert_exporter": "python",
   "pygments_lexer": "ipython3",
   "version": "3.9.10"
  }
 },
 "nbformat": 4,
 "nbformat_minor": 5
}
